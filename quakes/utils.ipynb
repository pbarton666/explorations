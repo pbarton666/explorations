{
 "cells": [
  {
   "cell_type": "markdown",
   "id": "b51f8942",
   "metadata": {
    "toc": true
   },
   "source": [
    "<h1>Table of Contents<span class=\"tocSkip\"></span></h1>\n",
    "<div class=\"toc\"><ul class=\"toc-item\"><li><span><a href=\"#Utilities\" data-toc-modified-id=\"Utilities-1\"><span class=\"toc-item-num\">1&nbsp;&nbsp;</span>Utilities</a></span><ul class=\"toc-item\"><li><span><a href=\"#Pandas-display-options\" data-toc-modified-id=\"Pandas-display-options-1.1\"><span class=\"toc-item-num\">1.1&nbsp;&nbsp;</span>Pandas display options</a></span></li><li><span><a href=\"#Linear-distance-within-a-sphere\" data-toc-modified-id=\"Linear-distance-within-a-sphere-1.2\"><span class=\"toc-item-num\">1.2&nbsp;&nbsp;</span>Linear distance within a sphere</a></span></li><li><span><a href=\"#Haversine-(great-circle-distance)\" data-toc-modified-id=\"Haversine-(great-circle-distance)-1.3\"><span class=\"toc-item-num\">1.3&nbsp;&nbsp;</span>Haversine (great circle distance)</a></span></li><li><span><a href=\"#Unit-tests\" data-toc-modified-id=\"Unit-tests-1.4\"><span class=\"toc-item-num\">1.4&nbsp;&nbsp;</span>Unit tests</a></span></li></ul></li></ul></div>"
   ]
  },
  {
   "cell_type": "markdown",
   "id": "52117422",
   "metadata": {},
   "source": [
    "# Utilities"
   ]
  },
  {
   "cell_type": "code",
   "execution_count": 21,
   "id": "914705ec",
   "metadata": {},
   "outputs": [],
   "source": [
    "from typing import List, Tuple, Sequence, Optional, Dict\n",
    "\n",
    "import unittest\n",
    "\n",
    "from math import radians as deg_2_rad, degrees as rad_2_deg\n",
    "from math import cos, sin, asin, sqrt\n",
    "import pandas as pd\n",
    "\n",
    "%matplotlib inline"
   ]
  },
  {
   "cell_type": "code",
   "execution_count": 22,
   "id": "bd66d685",
   "metadata": {},
   "outputs": [],
   "source": [
    "def hello():\n",
    "    \"Proof of life\"\n",
    "    print('hello from utils')"
   ]
  },
  {
   "cell_type": "markdown",
   "id": "6f9ccbe5",
   "metadata": {},
   "source": [
    "## Pandas display options"
   ]
  },
  {
   "cell_type": "code",
   "execution_count": 23,
   "id": "53c8a1a6",
   "metadata": {},
   "outputs": [],
   "source": [
    "def reset_pd_display(default: bool = False,\n",
    "                     max_cols: int = None,\n",
    "                     max_rows: int = None,\n",
    "                     max_col_width: int = None) -> None:\n",
    "    \" Sets / resets pandas display options. \"\n",
    "\n",
    "    if default:\n",
    "        resets = ['max_columns', 'max_rows', 'max_colwidth']\n",
    "        for _ in resets:\n",
    "            pd.reset_option(_)\n",
    "        return\n",
    "\n",
    "    if max_cols:\n",
    "        pd.set_option('max_columns', max_cols)\n",
    "\n",
    "    if max_rows:\n",
    "        pd.set_option('max_rows', max_rows)\n",
    "\n",
    "    if max_col_width:\n",
    "        pd.set_option('max_colwidth', max_col_width)"
   ]
  },
  {
   "attachments": {
    "linear_distance_graphics.PNG": {
     "image/png": "[encoded data removed]"
    }
   },
   "cell_type": "markdown",
   "id": "517ad61d",
   "metadata": {},
   "source": [
    "## Linear distance within a sphere\n",
    "\n",
    "Function to figure out the distance between an earthquake hypocenter and a fracking hypocenter.\n",
    "\n",
    "![linear_distance_graphics.PNG](attachment:linear_distance_graphics.PNG)"
   ]
  },
  {
   "cell_type": "markdown",
   "id": "e5a1c482",
   "metadata": {},
   "source": [
    "The USGS measures quake depth (km), magnitude, time, and location of every earthquake.   From this we can derive the distance between the actual fracking (typically 2-3 km) and the actual earthquake site (hypocenter).\n",
    "\n",
    "We want the actual distance between the earthquake hypocenter and the fracking location.   Since we're looking for a causal relationship\n",
    "fracking -> earthquakes this is reasonable (IMHO).\n",
    "\n",
    "Using a bit of trig:\n",
    "\n",
    "a = earth_radius - quake_depth\n",
    "b = earth_radius - frack_depth\n",
    "theta = haversine_dist(fracking_site, quake_epicenter) / earth_circumferance\n",
    "\n",
    "linear_dist = c = a**2 + b**2 = 2*a*b*cos(theta)"
   ]
  },
  {
   "cell_type": "code",
   "execution_count": 24,
   "id": "97296cc3",
   "metadata": {},
   "outputs": [],
   "source": [
    "def linear_dist_sphere(radius: float, surf_dist: float, depth_a: float, depth_b: float) -> float:\n",
    "    \"\"\" \n",
    "    The purpose of this function is to find the actual, linear distance between the hypocenter of \n",
    "    and earthquake and the bottom of a fracking well.  It's a more general problem/solution, though:\n",
    "    \n",
    "    returns c:  Linear distance through a sphere between two points at or beneath the surface of a sphere\n",
    "    inputs:\n",
    "        radius: radius of the sphere;       \n",
    "        surf_dist: 'great circle' distance between the epicenters of the two points;    \n",
    "        depth_a, depth_b:  depth of each of the two points beneath the surface.\n",
    "    \n",
    "    \"\"\"\n",
    "    from math import cos, pi, sqrt\n",
    "    circumferance = 2 * pi * radius\n",
    "    theta_rad = (surf_dist / circumferance) * ( 2 * pi )\n",
    "    \n",
    "    a = radius - depth_a\n",
    "    b = radius - depth_b\n",
    "    c = sqrt(a**2 + b**2 - 2 * a * b * cos(theta_rad))\n",
    "    return c "
   ]
  },
  {
   "attachments": {
    "haversine.png": {
     "image/png": "[encoded data removed]"
    }
   },
   "cell_type": "markdown",
   "id": "0f254592",
   "metadata": {},
   "source": [
    "## Haversine (great circle distance)\n",
    "\n",
    "![haversine.png](attachment:haversine.png)"
   ]
  },
  {
   "cell_type": "code",
   "execution_count": 25,
   "id": "58a02988",
   "metadata": {},
   "outputs": [],
   "source": [
    "def haversine(long0: float, lat0: float, long1: float, lat1: float) -> float:\n",
    "    \"\"\"\n",
    "    Calculate the surface (great circle) distance between two points \n",
    "    on the earth.  Returns distance in km.   \n",
    "    \n",
    "    \"\"\"\n",
    "    \n",
    "    RADIUS_EARTH_KM = 6_367  #3956 miles\n",
    "    \n",
    "    # Degrees -> radians\n",
    "    long0, lat0, long1, lat1 = map(radians, [long0, lat0, long1, lat1])\n",
    "    \n",
    "    # Haversine formula https://en.wikipedia.org/wiki/Haversine_formula\n",
    "    dlong = long1 - long0 \n",
    "    dlat = lat1 - lat0 \n",
    "    a = sin(dlat/2)**2 + cos(lat0) * cos(lat1) * sin(dlong/2)**2\n",
    "    c = 2 * asin(sqrt(a)) \n",
    "    \n",
    "    return RADIUS_EARTH_KM * c"
   ]
  },
  {
   "cell_type": "code",
   "execution_count": null,
   "id": "9b65cd77",
   "metadata": {},
   "outputs": [],
   "source": [
    "def in_to_pixels(inches, resolution=96):\n",
    "    \"Converts inches to pixels\"\n",
    "    \n",
    "    return inches * resolution\n",
    " "
   ]
  },
  {
   "cell_type": "markdown",
   "id": "dd297341",
   "metadata": {},
   "source": [
    "## Unit tests"
   ]
  },
  {
   "cell_type": "code",
   "execution_count": 26,
   "id": "c441c3f6",
   "metadata": {},
   "outputs": [
    {
     "name": "stderr",
     "output_type": "stream",
     "text": [
      "..\n",
      "----------------------------------------------------------------------\n",
      "Ran 2 tests in 0.003s\n",
      "\n",
      "OK\n"
     ]
    }
   ],
   "source": [
    "import unittest\n",
    "import sys\n",
    "\n",
    "\n",
    "def run_tests():\n",
    "    \"\"\" Run test in a notebook or command line.  \n",
    "\n",
    "        Note that this notebook can be onverted to a straight-up \n",
    "        *.py script by going:\n",
    "\n",
    "            $ ipynb-py-convert <notebook name>  <script name>\n",
    "    \"\"\"\n",
    "    \n",
    "    if 'ipykernel_launcher.py' in sys.argv[0]:\n",
    "        unittest.main(argv=[''], exit=False)\n",
    "    else:\n",
    "        unittest.main()\n",
    "\n",
    "\n",
    "class UtilTests(unittest.TestCase):\n",
    "    def test_haversine(self):\n",
    "        \"\"\"\n",
    "        For more distances and geo-coordinates, cf:\n",
    "          https://www.transtats.bts.gov/Distance.asp\n",
    "          https://www.latlong.net/category/airports-236-19.html\n",
    "\n",
    "        Tests are known coordinate and distances between airports.\n",
    "        \"\"\"\n",
    "        tests = (\n",
    "            {'p0': 'IAD', 'lat0': 38.9531, 'long0':  77.4565, \n",
    "             'p1': 'ORD', 'lat1': 41.9803, 'long1': 87.9090, \n",
    "             'target': 946.},\n",
    "            {'p0': 'LAS', 'lat0': 36.1699, 'long0': 115.1398, \n",
    "             'p1': 'JFK', 'lat1': 40.6413, 'long1': 73.7781, \n",
    "             'target': 3_618.},\n",
    "            {'p0': 'DEN', 'lat0': 39.8561, 'long0': 104.6737, \n",
    "             'p1': 'MCO', 'lat1': 28.4312, 'long1': 81.3081, \n",
    "             'target': 2_488.},\n",
    "        )\n",
    "        # Test to within 1% of the expected value.\n",
    "        for t in tests:\n",
    "            result = haversine(t['long0'], t['lat0'], t['long1'], t['lat1'])\n",
    "            self.assertAlmostEqual(\n",
    "                round(result, 0), t['target'], delta=.01*result)\n",
    "\n",
    "    def test_linear_distance_sphere(self):\n",
    "        # Test the linear distance between two points, given epicenters and depths; and the radius of the sphere.\n",
    "        tests = (\n",
    "            # If the quake and fracking op are at the surface, target distance ~= surface dist\n",
    "            {'radius': 10, 'surf_dist': 10, 'depth_a': 0, 'depth_b': 0, 'target': 10},\n",
    "\n",
    "            #  ... that should not depend on the diameter of the Earth.\n",
    "            {'radius': 1000, 'surf_dist': 10,\n",
    "             'depth_a': 0, 'depth_b': 0, 'target': 10},\n",
    "\n",
    "            #  Half way to the middle of the earth, the distance should be half of surface dist\n",
    "            {'radius': 1000, 'surf_dist': 10,\n",
    "             'depth_a': 500, 'depth_b': 500, 'target': 5},\n",
    "\n",
    "            #  Fracking on the surface, earthquake as deep as epicenters are apart makes distance = hyp of a right triangle\n",
    "            {'radius': 1000, 'surf_dist': 10, 'depth_a': 10,\n",
    "             'depth_b': 0, 'target': 14.414},\n",
    "        )\n",
    "        for t in tests:\n",
    "            result = linear_dist_sphere(\n",
    "                t['radius'], t['surf_dist'], t['depth_a'], t['depth_b'])\n",
    "            self.assertAlmostEqual(result, t['target'], delta=1)\n",
    "\n",
    "\n",
    "if __name__ == '__main__':\n",
    "    run_tests()"
   ]
  },
  {
   "cell_type": "code",
   "execution_count": null,
   "id": "d58f13cf",
   "metadata": {},
   "outputs": [],
   "source": []
  }
 ],
 "metadata": {
  "kernelspec": {
   "display_name": "py39",
   "language": "python",
   "name": "py39"
  },
  "language_info": {
   "codemirror_mode": {
    "name": "ipython",
    "version": 3
   },
   "file_extension": ".py",
   "mimetype": "text/x-python",
   "name": "python",
   "nbconvert_exporter": "python",
   "pygments_lexer": "ipython3",
   "version": "3.9.5"
  },
  "toc": {
   "base_numbering": 1,
   "nav_menu": {},
   "number_sections": true,
   "sideBar": true,
   "skip_h1_title": false,
   "title_cell": "Table of Contents",
   "title_sidebar": "Contents",
   "toc_cell": true,
   "toc_position": {},
   "toc_section_display": true,
   "toc_window_display": true
  }
 },
 "nbformat": 4,
 "nbformat_minor": 5
}
